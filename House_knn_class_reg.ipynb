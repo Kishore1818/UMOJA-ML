{
 "cells": [
  {
   "cell_type": "code",
   "execution_count": 1,
   "metadata": {},
   "outputs": [],
   "source": [
    "# import libraries\n",
    "import numpy as np\n",
    "import pandas as pd\n",
    "import matplotlib.pyplot as plt\n",
    "import seaborn as sns\n",
    "\n",
    "from scipy.stats import multivariate_normal as mvn\n",
    "\n",
    "import warnings\n",
    "warnings.filterwarnings(\"ignore\")\n",
    "\n",
    "import geopy\n",
    "from geopy.geocoders import Nominatim"
   ]
  },
  {
   "cell_type": "code",
   "execution_count": 42,
   "metadata": {},
   "outputs": [
    {
     "data": {
      "text/plain": [
       "(5000, 16)"
      ]
     },
     "execution_count": 42,
     "metadata": {},
     "output_type": "execute_result"
    }
   ],
   "source": [
    "# read the data file\n",
    "ncdata = pd.read_csv(\"~/Desktop/Work/ML_EIT/Data/raw_house_data.csv\")\n",
    "ncdata.head()\n",
    "ncdata.shape"
   ]
  },
  {
   "cell_type": "code",
   "execution_count": 3,
   "metadata": {},
   "outputs": [
    {
     "name": "stdout",
     "output_type": "stream",
     "text": [
      "(5000, 11)\n"
     ]
    }
   ],
   "source": [
    "# Drop the 'MLS\", kitchen_features', 'floor_covering'\n",
    "ncdata = ncdata.drop(columns = ['MLS', 'kitchen_features', 'floor_covering',\"fireplaces\",\"HOA\"])\n",
    "# Data shape (number of rwos and columns)\n",
    "print(ncdata.shape)"
   ]
  },
  {
   "cell_type": "code",
   "execution_count": 4,
   "metadata": {},
   "outputs": [],
   "source": [
    "# Replacing any special characters to NaN values in the entire data frame\n",
    "ncdata = ncdata.replace(r'^\\s*$',np.nan, regex = True)\n",
    "# Replace \"none' to \"NaN\" values in the data frame\n",
    "\n",
    "col_none = list(ncdata.columns)\n",
    "ncdata = ncdata[col_none].replace(['None'],'NaN')\n",
    "ncdata.replace(0., np.nan, inplace= True)"
   ]
  },
  {
   "cell_type": "code",
   "execution_count": 5,
   "metadata": {},
   "outputs": [
    {
     "data": {
      "text/plain": [
       "sold_price    float64\n",
       "zipcode         int64\n",
       "longitude     float64\n",
       "latitude      float64\n",
       "lot_acres     float64\n",
       "taxes         float64\n",
       "year_built      int64\n",
       "bedrooms        int64\n",
       "bathrooms     float64\n",
       "sqrt_ft       float64\n",
       "garage        float64\n",
       "dtype: object"
      ]
     },
     "execution_count": 5,
     "metadata": {},
     "output_type": "execute_result"
    }
   ],
   "source": [
    "# convert columns: object to float  \n",
    "cols = ['sqrt_ft', 'garage', 'bathrooms']\n",
    "ncdata[cols] = ncdata[cols].astype('float')\n",
    "ncdata.dtypes"
   ]
  },
  {
   "cell_type": "code",
   "execution_count": 6,
   "metadata": {
    "scrolled": true
   },
   "outputs": [
    {
     "name": "stdout",
     "output_type": "stream",
     "text": [
      "0     504.761905\n",
      "1     575.342466\n",
      "2    1186.105620\n",
      "3     498.946668\n",
      "4     533.372420\n",
      "5     475.007308\n",
      "6     199.584200\n",
      "7     280.237642\n",
      "8     706.376480\n",
      "9     501.543210\n",
      "dtype: float64\n"
     ]
    },
    {
     "data": {
      "text/plain": [
       "(5000, 11)"
      ]
     },
     "execution_count": 6,
     "metadata": {},
     "output_type": "execute_result"
    }
   ],
   "source": [
    "# filling the Nan values\n",
    "ncdata['sqrt_ft'] = ncdata['sqrt_ft'].fillna(ncdata['sqrt_ft'].mode()[0])\n",
    "# calc the sldprice/sqft\n",
    "sqft = ncdata['sqrt_ft']\n",
    "sldprice = ncdata[\"sold_price\"]\n",
    "pr_sqft = sldprice/sqft\n",
    "print(pr_sqft[0:10])\n",
    "ncdata.shape"
   ]
  },
  {
   "cell_type": "code",
   "execution_count": 7,
   "metadata": {},
   "outputs": [],
   "source": [
    "# Replace Nan to mean value (important)\n",
    "# ncdata.fillna(ncdata.mean())\n",
    "ncdata.fillna(ncdata.median(), inplace=True)"
   ]
  },
  {
   "cell_type": "code",
   "execution_count": 8,
   "metadata": {},
   "outputs": [
    {
     "name": "stdout",
     "output_type": "stream",
     "text": [
      "0.0 12.0\n"
     ]
    }
   ],
   "source": [
    "#calc the price category\n",
    "def prcat(val):\n",
    "    return(val//100)\n",
    "\n",
    "price_catgry = prcat(pr_sqft)\n",
    "print(min(price_catgry),max(price_catgry))"
   ]
  },
  {
   "cell_type": "code",
   "execution_count": 9,
   "metadata": {},
   "outputs": [
    {
     "name": "stdout",
     "output_type": "stream",
     "text": [
      "0      5.0\n",
      "1      5.0\n",
      "2     11.0\n",
      "3      4.0\n",
      "4      5.0\n",
      "      ... \n",
      "95     3.0\n",
      "96     3.0\n",
      "97     5.0\n",
      "98     5.0\n",
      "99     3.0\n",
      "Length: 100, dtype: float64\n"
     ]
    }
   ],
   "source": [
    "print(price_catgry[0:100])"
   ]
  },
  {
   "cell_type": "code",
   "execution_count": 10,
   "metadata": {},
   "outputs": [
    {
     "data": {
      "text/plain": [
       "4973"
      ]
     },
     "execution_count": 10,
     "metadata": {},
     "output_type": "execute_result"
    }
   ],
   "source": [
    "np.count_nonzero(price_catgry)"
   ]
  },
  {
   "cell_type": "code",
   "execution_count": 11,
   "metadata": {},
   "outputs": [
    {
     "name": "stdout",
     "output_type": "stream",
     "text": [
      "<class 'pandas.core.frame.DataFrame'>\n",
      "RangeIndex: 5000 entries, 0 to 4999\n",
      "Data columns (total 13 columns):\n",
      " #   Column        Non-Null Count  Dtype  \n",
      "---  ------        --------------  -----  \n",
      " 0   sold_price    5000 non-null   float64\n",
      " 1   zipcode       5000 non-null   int64  \n",
      " 2   longitude     5000 non-null   float64\n",
      " 3   latitude      5000 non-null   float64\n",
      " 4   lot_acres     5000 non-null   float64\n",
      " 5   taxes         5000 non-null   float64\n",
      " 6   year_built    5000 non-null   int64  \n",
      " 7   bedrooms      5000 non-null   int64  \n",
      " 8   bathrooms     5000 non-null   float64\n",
      " 9   sqrt_ft       5000 non-null   float64\n",
      " 10  garage        5000 non-null   float64\n",
      " 11  pr_sqft       5000 non-null   float64\n",
      " 12  price_catgry  5000 non-null   float64\n",
      "dtypes: float64(10), int64(3)\n",
      "memory usage: 507.9 KB\n"
     ]
    },
    {
     "data": {
      "text/plain": [
       "(5000, 13)"
      ]
     },
     "execution_count": 11,
     "metadata": {},
     "output_type": "execute_result"
    }
   ],
   "source": [
    "ncdata[\"pr_sqft\"] = pr_sqft\n",
    "ncdata[\"price_catgry\"] = price_catgry\n",
    "\n",
    "ncdata.info()\n",
    "ncdata.shape"
   ]
  },
  {
   "cell_type": "code",
   "execution_count": 12,
   "metadata": {},
   "outputs": [
    {
     "name": "stdout",
     "output_type": "stream",
     "text": [
      "4726\n"
     ]
    }
   ],
   "source": [
    "# Select the downtown area\n",
    "indx = np.where(((ncdata.latitude >= 32.0) & (ncdata.latitude < 32.7)) &((ncdata.longitude > -111.5) & (ncdata.longitude < -110.5)))[0]\n",
    "print(len(indx))"
   ]
  },
  {
   "cell_type": "code",
   "execution_count": 13,
   "metadata": {},
   "outputs": [
    {
     "name": "stdout",
     "output_type": "stream",
     "text": [
      "(4726, 13)\n",
      "(4726, 13)\n"
     ]
    },
    {
     "data": {
      "text/plain": [
       "Index(['sold_price', 'zipcode', 'longitude', 'latitude', 'lot_acres', 'taxes',\n",
       "       'year_built', 'bedrooms', 'bathrooms', 'sqrt_ft', 'garage', 'pr_sqft',\n",
       "       'price_catgry'],\n",
       "      dtype='object')"
      ]
     },
     "execution_count": 13,
     "metadata": {},
     "output_type": "execute_result"
    }
   ],
   "source": [
    "sp=ncdata.sold_price[indx]; zipp=ncdata.zipcode[indx]\n",
    "long=ncdata.longitude[indx]; latt=ncdata.latitude[indx]\n",
    "la=ncdata.lot_acres[indx]; tx=ncdata.taxes[indx]\n",
    "yb=ncdata.year_built[indx]; br=ncdata.bedrooms[indx]\n",
    "bath=ncdata.bathrooms[indx]; sft=ncdata.sqrt_ft[indx]\n",
    "ga=ncdata.garage[indx]; prs=ncdata.pr_sqft[indx]\n",
    "prca=ncdata.price_catgry[indx]\n",
    "\n",
    "long.shape, latt.shape\n",
    "\n",
    "dup = np.stack((sp,zipp,long,latt,la,tx,yb,br,bath,sft,ga,prs,prca),axis=1)\n",
    "dup= np.array(dup)\n",
    "print(dup.shape)\n",
    "\n",
    "# creating DataFrame\n",
    "cdata = pd.DataFrame(data=dup,columns =[\"sold_price\",\"zipcode\",\"longitude\",\n",
    "                                     \"latitude\",\"lot_acres\",\"taxes\",\"year_built\",\n",
    "                                    \"bedrooms\",\"bathrooms\",\"sqrt_ft\",\"garage\",\n",
    "                                       \"pr_sqft\",\"price_catgry\"])\n",
    "\n",
    "print(cdata.shape)\n",
    "cdata.columns"
   ]
  },
  {
   "cell_type": "code",
   "execution_count": 14,
   "metadata": {},
   "outputs": [
    {
     "name": "stdout",
     "output_type": "stream",
     "text": [
      "[ 5  5 11 ...  2  1  1]\n"
     ]
    }
   ],
   "source": [
    "colls = ['longitude','latitude']\n",
    "features = ncdata[colls].to_numpy()\n",
    "prices = ncdata[\"price_catgry\"].to_numpy(dtype='int64')\n",
    "\n",
    "# features = cdata[colls].to_numpy()\n",
    "# prices = cdata[\"price_catgry\"].to_numpy(dtype='int64')\n",
    "print(prices)"
   ]
  },
  {
   "cell_type": "code",
   "execution_count": 15,
   "metadata": {},
   "outputs": [
    {
     "name": "stdout",
     "output_type": "stream",
     "text": [
      "(4200, 2) (800, 2) (4200,) (800,)\n"
     ]
    }
   ],
   "source": [
    "# without using sklearn function\n",
    "X_train = features[:4200,:]\n",
    "X_test= features[4200:,:]\n",
    "y_train = prices[:4200]\n",
    "y_test = prices[4200:]\n",
    "\n",
    "print(X_train.shape, X_test.shape, y_train.shape, y_test.shape)"
   ]
  },
  {
   "cell_type": "markdown",
   "metadata": {},
   "source": [
    "## KNN Classifier"
   ]
  },
  {
   "cell_type": "code",
   "execution_count": 16,
   "metadata": {},
   "outputs": [],
   "source": [
    "class KNNClassifier():\n",
    "    def fit(self,X,y):\n",
    "        self.X = X\n",
    "        self.y = y\n",
    "        \n",
    "    def predict(self, X, K, epsilon=1e-3):\n",
    "        N = len(X)\n",
    "        y_hat = np.zeros(N)\n",
    "        \n",
    "        for i in range(N):\n",
    "            dist2 = np.sum((self.X - X[i])**2,axis=1)\n",
    "            idxt = np.argsort(dist2)[:K]\n",
    "            gamma_k = 1/(np.sqrt(dist2[idxt])+epsilon)\n",
    "            y_hat[i] = np.bincount(self.y[idxt], weights = gamma_k).argmax()\n",
    "            \n",
    "        return y_hat"
   ]
  },
  {
   "cell_type": "code",
   "execution_count": 17,
   "metadata": {},
   "outputs": [],
   "source": [
    "knn = KNNClassifier()\n",
    "knn.fit(X_train,y_train)"
   ]
  },
  {
   "cell_type": "code",
   "execution_count": 18,
   "metadata": {},
   "outputs": [],
   "source": [
    "y_hat = knn.predict(X_test,10)"
   ]
  },
  {
   "cell_type": "code",
   "execution_count": 19,
   "metadata": {},
   "outputs": [],
   "source": [
    "def accuracy(y,y_hat):\n",
    "    return np.mean(y_test == y_hat)"
   ]
  },
  {
   "cell_type": "code",
   "execution_count": 20,
   "metadata": {},
   "outputs": [
    {
     "data": {
      "text/plain": [
       "0.65125"
      ]
     },
     "execution_count": 20,
     "metadata": {},
     "output_type": "execute_result"
    }
   ],
   "source": [
    "accuracy(y_test,y_hat)"
   ]
  },
  {
   "cell_type": "markdown",
   "metadata": {},
   "source": [
    "## KNN Regression"
   ]
  },
  {
   "cell_type": "code",
   "execution_count": 21,
   "metadata": {},
   "outputs": [
    {
     "name": "stdout",
     "output_type": "stream",
     "text": [
      "<class 'pandas.core.frame.DataFrame'>\n",
      "RangeIndex: 5000 entries, 0 to 4999\n",
      "Data columns (total 13 columns):\n",
      " #   Column        Non-Null Count  Dtype  \n",
      "---  ------        --------------  -----  \n",
      " 0   sold_price    5000 non-null   float64\n",
      " 1   zipcode       5000 non-null   int64  \n",
      " 2   longitude     5000 non-null   float64\n",
      " 3   latitude      5000 non-null   float64\n",
      " 4   lot_acres     5000 non-null   float64\n",
      " 5   taxes         5000 non-null   float64\n",
      " 6   year_built    5000 non-null   int64  \n",
      " 7   bedrooms      5000 non-null   int64  \n",
      " 8   bathrooms     5000 non-null   float64\n",
      " 9   sqrt_ft       5000 non-null   float64\n",
      " 10  garage        5000 non-null   float64\n",
      " 11  pr_sqft       5000 non-null   float64\n",
      " 12  price_catgry  5000 non-null   float64\n",
      "dtypes: float64(10), int64(3)\n",
      "memory usage: 507.9 KB\n"
     ]
    }
   ],
   "source": [
    "ncdata.info()"
   ]
  },
  {
   "cell_type": "code",
   "execution_count": 22,
   "metadata": {},
   "outputs": [],
   "source": [
    "##Normalize/rever normalize\n",
    "# Normalize entire data frame except long and latitude columns: Panda\n",
    "def normalize(dataset):\n",
    "    dataNorm=((dataset-dataset.min())/(dataset.max()-dataset.min()))\n",
    "    print(\"Minimum: \",dataset.min())\n",
    "    dataNorm[\"longitude\"] = dataset[\"longitude\"]\n",
    "    dataNorm[\"latitude\"] = dataset[\"latitude\"]\n",
    "    return dataNorm\n",
    "\n",
    "def normm (sprice,dataset):\n",
    "    return ((sprice-dataset[\"sold_price\"].min())/(dataset[\"sold_price\"].max()-dataset[\"sold_price\"].min()))\n",
    "\n",
    "def revnormm(ndata,dataset):\n",
    "    return ((ndata)*(dataset[\"sold_price\"].max()-dataset[\"sold_price\"].min())) + dataset[\"sold_price\"].min()"
   ]
  },
  {
   "cell_type": "code",
   "execution_count": 23,
   "metadata": {},
   "outputs": [
    {
     "name": "stdout",
     "output_type": "stream",
     "text": [
      "Minimum:  sold_price      169000.000000\n",
      "zipcode          85118.000000\n",
      "longitude         -112.520168\n",
      "latitude            31.356362\n",
      "lot_acres            0.020000\n",
      "taxes                1.000000\n",
      "year_built           0.000000\n",
      "bedrooms             1.000000\n",
      "bathrooms            1.000000\n",
      "sqrt_ft           1100.000000\n",
      "garage               0.000000\n",
      "pr_sqft             24.544805\n",
      "price_catgry         0.000000\n",
      "dtype: float64\n",
      "(5000, 13)\n"
     ]
    },
    {
     "data": {
      "text/html": [
       "<div>\n",
       "<style scoped>\n",
       "    .dataframe tbody tr th:only-of-type {\n",
       "        vertical-align: middle;\n",
       "    }\n",
       "\n",
       "    .dataframe tbody tr th {\n",
       "        vertical-align: top;\n",
       "    }\n",
       "\n",
       "    .dataframe thead th {\n",
       "        text-align: right;\n",
       "    }\n",
       "</style>\n",
       "<table border=\"1\" class=\"dataframe\">\n",
       "  <thead>\n",
       "    <tr style=\"text-align: right;\">\n",
       "      <th></th>\n",
       "      <th>sold_price</th>\n",
       "      <th>zipcode</th>\n",
       "      <th>longitude</th>\n",
       "      <th>latitude</th>\n",
       "      <th>lot_acres</th>\n",
       "      <th>taxes</th>\n",
       "      <th>year_built</th>\n",
       "      <th>bedrooms</th>\n",
       "      <th>bathrooms</th>\n",
       "      <th>sqrt_ft</th>\n",
       "      <th>garage</th>\n",
       "      <th>pr_sqft</th>\n",
       "      <th>price_catgry</th>\n",
       "    </tr>\n",
       "  </thead>\n",
       "  <tbody>\n",
       "    <tr>\n",
       "      <th>2077</th>\n",
       "      <td>0.108361</td>\n",
       "      <td>0.522822</td>\n",
       "      <td>-110.750101</td>\n",
       "      <td>32.215913</td>\n",
       "      <td>0.002006</td>\n",
       "      <td>0.000459</td>\n",
       "      <td>0.978702</td>\n",
       "      <td>0.114286</td>\n",
       "      <td>0.085714</td>\n",
       "      <td>0.157218</td>\n",
       "      <td>0.066667</td>\n",
       "      <td>0.116893</td>\n",
       "      <td>0.083333</td>\n",
       "    </tr>\n",
       "    <tr>\n",
       "      <th>4341</th>\n",
       "      <td>0.074644</td>\n",
       "      <td>0.524481</td>\n",
       "      <td>-110.851864</td>\n",
       "      <td>32.292703</td>\n",
       "      <td>0.000427</td>\n",
       "      <td>0.000451</td>\n",
       "      <td>0.983655</td>\n",
       "      <td>0.028571</td>\n",
       "      <td>0.057143</td>\n",
       "      <td>0.080298</td>\n",
       "      <td>0.066667</td>\n",
       "      <td>0.145150</td>\n",
       "      <td>0.083333</td>\n",
       "    </tr>\n",
       "    <tr>\n",
       "      <th>1105</th>\n",
       "      <td>0.128825</td>\n",
       "      <td>0.419917</td>\n",
       "      <td>-110.738728</td>\n",
       "      <td>31.611187</td>\n",
       "      <td>0.036751</td>\n",
       "      <td>0.000553</td>\n",
       "      <td>0.988113</td>\n",
       "      <td>0.085714</td>\n",
       "      <td>0.057143</td>\n",
       "      <td>0.160691</td>\n",
       "      <td>0.066667</td>\n",
       "      <td>0.134248</td>\n",
       "      <td>0.083333</td>\n",
       "    </tr>\n",
       "    <tr>\n",
       "      <th>2000</th>\n",
       "      <td>0.106412</td>\n",
       "      <td>0.528631</td>\n",
       "      <td>-110.977216</td>\n",
       "      <td>32.438041</td>\n",
       "      <td>0.000232</td>\n",
       "      <td>0.000530</td>\n",
       "      <td>0.994056</td>\n",
       "      <td>0.057143</td>\n",
       "      <td>0.085714</td>\n",
       "      <td>0.092313</td>\n",
       "      <td>0.083333</td>\n",
       "      <td>0.176199</td>\n",
       "      <td>0.166667</td>\n",
       "    </tr>\n",
       "    <tr>\n",
       "      <th>2036</th>\n",
       "      <td>0.096667</td>\n",
       "      <td>0.517842</td>\n",
       "      <td>-111.026538</td>\n",
       "      <td>32.360568</td>\n",
       "      <td>0.000167</td>\n",
       "      <td>0.000597</td>\n",
       "      <td>0.987618</td>\n",
       "      <td>0.085714</td>\n",
       "      <td>0.085714</td>\n",
       "      <td>0.106251</td>\n",
       "      <td>0.066667</td>\n",
       "      <td>0.146256</td>\n",
       "      <td>0.083333</td>\n",
       "    </tr>\n",
       "  </tbody>\n",
       "</table>\n",
       "</div>"
      ],
      "text/plain": [
       "      sold_price   zipcode   longitude   latitude  lot_acres     taxes  \\\n",
       "2077    0.108361  0.522822 -110.750101  32.215913   0.002006  0.000459   \n",
       "4341    0.074644  0.524481 -110.851864  32.292703   0.000427  0.000451   \n",
       "1105    0.128825  0.419917 -110.738728  31.611187   0.036751  0.000553   \n",
       "2000    0.106412  0.528631 -110.977216  32.438041   0.000232  0.000530   \n",
       "2036    0.096667  0.517842 -111.026538  32.360568   0.000167  0.000597   \n",
       "\n",
       "      year_built  bedrooms  bathrooms   sqrt_ft    garage   pr_sqft  \\\n",
       "2077    0.978702  0.114286   0.085714  0.157218  0.066667  0.116893   \n",
       "4341    0.983655  0.028571   0.057143  0.080298  0.066667  0.145150   \n",
       "1105    0.988113  0.085714   0.057143  0.160691  0.066667  0.134248   \n",
       "2000    0.994056  0.057143   0.085714  0.092313  0.083333  0.176199   \n",
       "2036    0.987618  0.085714   0.085714  0.106251  0.066667  0.146256   \n",
       "\n",
       "      price_catgry  \n",
       "2077      0.083333  \n",
       "4341      0.083333  \n",
       "1105      0.083333  \n",
       "2000      0.166667  \n",
       "2036      0.083333  "
      ]
     },
     "execution_count": 23,
     "metadata": {},
     "output_type": "execute_result"
    }
   ],
   "source": [
    "ncdata1 =normalize(ncdata)\n",
    "print(ncdata1.shape)\n",
    "ncdata1.sample(5)"
   ]
  },
  {
   "cell_type": "code",
   "execution_count": 24,
   "metadata": {},
   "outputs": [],
   "source": [
    "# normalize price only\n",
    "# prices3 = ncdata[\"sold_price\"]\n",
    "# prices2 = (normm(prices3,ncdata))\n",
    "# print(prices2)\n"
   ]
  },
  {
   "cell_type": "code",
   "execution_count": 25,
   "metadata": {},
   "outputs": [
    {
     "name": "stdout",
     "output_type": "stream",
     "text": [
      "[1 0 0 ... 0 0 0]\n",
      "[0.34285714 0.02857143 0.02857143 0.17142857 0.08571429 0.05714286\n",
      " 0.22857143 0.14285714 0.11428571 0.11428571]\n"
     ]
    }
   ],
   "source": [
    "colls1 = ['longitude','latitude','bedrooms','bathrooms','sqrt_ft','price_catgry']\n",
    "# colls1 = ['bedrooms','bathrooms','sqrt_ft','price_catgry']\n",
    "features1 = ncdata1[colls1].to_numpy()\n",
    "prices1 = ncdata1[\"sold_price\"].to_numpy(dtype='int64')\n",
    "# prices2 = ncdata1[\"sold_price\"]*20.\n",
    "# price2 = prices2.to_numpy(dtype='int64')\n",
    "print(prices1)\n",
    "\n",
    "# test\n",
    "datt = features1[:,2]\n",
    "print(datt[0:10])"
   ]
  },
  {
   "cell_type": "code",
   "execution_count": 26,
   "metadata": {},
   "outputs": [
    {
     "name": "stdout",
     "output_type": "stream",
     "text": [
      "(4000, 6) (1000, 6) (4000,) (1000,)\n"
     ]
    }
   ],
   "source": [
    "# without using sklearn function\n",
    "X_train1 = features1[:4000,:]\n",
    "X_test1= features1[4000:,:]\n",
    "y_train1 = prices1[:4000]\n",
    "y_test1 = prices1[4000:]\n",
    "\n",
    "print(X_train1.shape, X_test1.shape, y_train1.shape, y_test1.shape)"
   ]
  },
  {
   "cell_type": "code",
   "execution_count": 27,
   "metadata": {},
   "outputs": [],
   "source": [
    "class KNNRegressor():\n",
    "    def fit(self,X,y):\n",
    "        self.X = X\n",
    "        self.y = y\n",
    "        \n",
    "    def predict(self,X, K, epsilon=1e-03):\n",
    "        N = len(X)\n",
    "        y_hat = np.zeros(N)\n",
    "        \n",
    "        for i in range(N):\n",
    "            dist2 = np.sum((self.X-X[i])**2,axis=1)\n",
    "            idxt = np.argsort(dist2)[:K]\n",
    "            gamma_k = 1/(np.sqrt(dist2[idxt]) + epsilon)\n",
    "            y_hat[i] = gamma_k.dot(self.y[idxt])/gamma_k.sum() #traget value with the height weight\n",
    "             \n",
    "        return y_hat"
   ]
  },
  {
   "cell_type": "code",
   "execution_count": 28,
   "metadata": {},
   "outputs": [],
   "source": [
    "# class KNNRegII():\n",
    "#     def fit(self,X,y):\n",
    "#         self.X = X\n",
    "#         self.y = y\n",
    "        \n",
    "#     def predict(self,X, K, epsilon=1e-03):\n",
    "#         N = len(X)\n",
    "#         y_hat = np.zeros(N)\n",
    "        \n",
    "#         for i in range(N):\n",
    "#             dist2 = np.sum((self.X-X[i])**2,axis=1)\n",
    "#             idxt = np.argsort(dist2)[:K]\n",
    "#             gamma_k = np.exp(-dist2[idxt])/(np.exp(-dist2[idxt]).sum()+epsilon)\n",
    "#             y_hat[i] = gamma_k.dot(self.y[idxt])/gamma_k.sum() \n",
    "#         return y_hat\n",
    "       "
   ]
  },
  {
   "cell_type": "code",
   "execution_count": 29,
   "metadata": {},
   "outputs": [],
   "source": [
    "knnreg = KNNRegressor()"
   ]
  },
  {
   "cell_type": "code",
   "execution_count": 30,
   "metadata": {},
   "outputs": [],
   "source": [
    "knnreg.fit(X_train1,y_train1)"
   ]
  },
  {
   "cell_type": "code",
   "execution_count": 31,
   "metadata": {},
   "outputs": [],
   "source": [
    "y_hat1 = knnreg.predict(X_test1,300, epsilon=1e-3)"
   ]
  },
  {
   "cell_type": "code",
   "execution_count": 32,
   "metadata": {},
   "outputs": [],
   "source": [
    "def accuracy(y,y_hat):\n",
    "    return np.mean(y == y_hat1)"
   ]
  },
  {
   "cell_type": "code",
   "execution_count": 33,
   "metadata": {},
   "outputs": [
    {
     "data": {
      "text/plain": [
       "0.994"
      ]
     },
     "execution_count": 33,
     "metadata": {},
     "output_type": "execute_result"
    }
   ],
   "source": [
    "accuracy(y_test1,y_hat1)"
   ]
  },
  {
   "cell_type": "markdown",
   "metadata": {},
   "source": [
    "## Single Home Price locator"
   ]
  },
  {
   "cell_type": "code",
   "execution_count": 41,
   "metadata": {},
   "outputs": [
    {
     "name": "stdout",
     "output_type": "stream",
     "text": [
      "4.0 2.0 1873.0\n"
     ]
    }
   ],
   "source": [
    "geolocator=Nominatim(user_agent='myapp')\n",
    "# from geopy.geocoders import Nominatim\n",
    "address=\"10441 E Port Townsend St Tucson, AZ 85747\"\n",
    "# address=\"4650, West Lone Ridge Place, Marana, Pima County, Arizona, 85658\"\n",
    "\n",
    "# find the lon/lat using address\n",
    "mlocation = geolocator.geocode(address)\n",
    "mlat, mlon = mlocation.latitude, mlocation.longitude\n",
    "# print(mlocation.latitude, mlocation.longitude)\n",
    "\n",
    "bedrms= 4.0\n",
    "bathrooms= 2.0\n",
    "sqrft=1873.0\n",
    "\n",
    "xknnclass = np.array([[mlon,mlat]])\n",
    "prcat = knn.predict(xknnclass,10)\n",
    "# print(prcat)\n",
    "\n",
    "def normm (sprice,dataset):\n",
    "    return ((sprice-dataset[\"bedrooms\"].min())/(dataset[\"bedrooms\"].max()-dataset[\"bedrooms\"].min()))\n",
    "bedr = normm(bedrms,ncdata1)\n",
    "\n",
    "def normm (sprice,dataset):\n",
    "    return ((sprice-dataset[\"bathrooms\"].min())/(dataset[\"bathrooms\"].max()-dataset[\"bathrooms\"].min()))\n",
    "bathr = normm(bathrooms,ncdata1)\n",
    "\n",
    "def normm (sprice,dataset):\n",
    "    return ((sprice-dataset[\"sqrt_ft\"].min())/(dataset[\"sqrt_ft\"].max()-dataset[\"sqrt_ft\"].min()))\n",
    "sqrt = normm(sqrft,ncdata1)\n",
    "print(bedr,bathr,sqrt)\n",
    "\n",
    "def normm (sprice,dataset):\n",
    "    return ((sprice-dataset[\"price_catgry\"].min())/(dataset[\"price_catgry\"].max()-dataset[\"sqrt_ft\"].min()))\n",
    "sqrt = normm(prcat,ncdata1)\n",
    "# print(bedr,bathr,sqrt,prcat)\n",
    "\n",
    "# c_data =np.array([[mlon,mlat,bedr,bathr,sqrt,prcat]])\n",
    "c_data =[mlon,mlat,bedr,bathr,np.asscalar(sqrt),np.asscalar(prcat)]\n",
    "# print('Client values: ',c_data)\n",
    "\n",
    "# c_data =np.array([[-110.77, 32.099, 0.167,32.09959666666667,mlat,bedr,bathr,normm]])\n",
    "\n",
    "# val = knnreg.predict(c_data,100, epsilon=1e-3)\n",
    "val = knnreg.predict(c_data,20)\n",
    "# print(\"Predicted normalized price: \",val)\n",
    "\n",
    "def revnormm(ndata,dataset):\n",
    "    return ((ndata)*(dataset[\"sold_price\"].max()-dataset[\"sold_price\"].min())) + dataset[\"sold_price\"].min()\n",
    "prc = revnormm(val,ncdata1)\n",
    "# print(\"Estimated Price: \",prc)\n"
   ]
  },
  {
   "cell_type": "code",
   "execution_count": null,
   "metadata": {},
   "outputs": [],
   "source": []
  }
 ],
 "metadata": {
  "kernelspec": {
   "display_name": "Python 3",
   "language": "python",
   "name": "python3"
  },
  "language_info": {
   "codemirror_mode": {
    "name": "ipython",
    "version": 3
   },
   "file_extension": ".py",
   "mimetype": "text/x-python",
   "name": "python",
   "nbconvert_exporter": "python",
   "pygments_lexer": "ipython3",
   "version": "3.7.6"
  }
 },
 "nbformat": 4,
 "nbformat_minor": 4
}
